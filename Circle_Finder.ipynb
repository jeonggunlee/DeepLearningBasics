{
  "nbformat": 4,
  "nbformat_minor": 0,
  "metadata": {
    "colab": {
      "name": "Circle_Finder.ipynb",
      "provenance": [],
      "include_colab_link": true
    },
    "kernelspec": {
      "name": "python3",
      "display_name": "Python 3"
    }
  },
  "cells": [
    {
      "cell_type": "markdown",
      "metadata": {
        "id": "view-in-github",
        "colab_type": "text"
      },
      "source": [
        "<a href=\"https://colab.research.google.com/github/jeonggunlee/DeepLearningBasics/blob/master/Circle_Finder.ipynb\" target=\"_parent\"><img src=\"https://colab.research.google.com/assets/colab-badge.svg\" alt=\"Open In Colab\"/></a>"
      ]
    },
    {
      "cell_type": "code",
      "metadata": {
        "id": "SbTYm8kvfCOo"
      },
      "source": [
        "import cv2\n",
        "import numpy as np\n",
        "import matplotlib.pyplot as plt\n",
        "import random;\n",
        "import tqdm;"
      ],
      "execution_count": null,
      "outputs": []
    },
    {
      "cell_type": "code",
      "metadata": {
        "id": "5pUiMR3Lgcnt",
        "colab": {
          "base_uri": "https://localhost:8080/",
          "height": 269
        },
        "outputId": "1f12b4e4-3f5f-4769-b0cd-6e7187bec47e"
      },
      "source": [
        "IMAGE_SIZE = 200;\n",
        "rad = random.randint(5,50);\n",
        "c_x = random.randint(rad,IMAGE_SIZE-rad);\n",
        "c_y = random.randint(rad,IMAGE_SIZE-rad);\n",
        "blank_image = np.ones(shape=[IMAGE_SIZE, IMAGE_SIZE], dtype=np.uint8)\n",
        "cv2.circle(blank_image, (c_x,c_y), rad, 0, -1);\n",
        "plt.imshow(blank_image);"
      ],
      "execution_count": null,
      "outputs": [
        {
          "output_type": "display_data",
          "data": {
            "image/png": "[encoded data removed]",
            "text/plain": [
              "<Figure size 432x288 with 1 Axes>"
            ]
          },
          "metadata": {
            "tags": []
          }
        }
      ]
    },
    {
      "cell_type": "code",
      "metadata": {
        "id": "lcE-YsgNhCsO"
      },
      "source": [
        "def create_training_Data():\n",
        "  l = 10000;\n",
        "  X_train = np.zeros(shape=[l,IMAGE_SIZE, IMAGE_SIZE,1]);\n",
        "  Y_train = np.zeros(shape = [l,3]);\n",
        "  for i in range(l):\n",
        "    rad = random.randint(5,50);\n",
        "    c_x = random.randint(rad,IMAGE_SIZE-rad);\n",
        "    c_y = random.randint(rad,IMAGE_SIZE-rad);\n",
        "    Y_train[i,0]= c_x/IMAGE_SIZE;\n",
        "    Y_train[i,1] = c_y/IMAGE_SIZE;\n",
        "    Y_train[i,2] = rad/IMAGE_SIZE;\n",
        "    blank_image = np.ones(shape=[IMAGE_SIZE, IMAGE_SIZE], dtype=np.uint8);\n",
        "    X_train[i,:,:,0] = cv2.circle(blank_image, (c_x,c_y), rad, 0, -1);\n",
        "  return {'X_Train' : X_train, 'Y_Train': Y_train};\n",
        "  "
      ],
      "execution_count": null,
      "outputs": []
    },
    {
      "cell_type": "code",
      "metadata": {
        "id": "Eju_-oQkh0zG"
      },
      "source": [
        "training_Data = create_training_Data();"
      ],
      "execution_count": null,
      "outputs": []
    },
    {
      "cell_type": "code",
      "metadata": {
        "id": "n7u2vq6Oinm_",
        "colab": {
          "base_uri": "https://localhost:8080/",
          "height": 287
        },
        "outputId": "61653046-fd7b-4ef8-c861-e3922c9eb8bc"
      },
      "source": [
        "plt.imshow(training_Data['X_Train'][1999].reshape(200,200))\n",
        "IMAGE_SIZE*training_Data['Y_Train'][1999]"
      ],
      "execution_count": null,
      "outputs": [
        {
          "output_type": "execute_result",
          "data": {
            "text/plain": [
              "array([162., 132.,  35.])"
            ]
          },
          "metadata": {
            "tags": []
          },
          "execution_count": 8
        },
        {
          "output_type": "display_data",
          "data": {
            "image/png": "[encoded data removed]",
            "text/plain": [
              "<Figure size 432x288 with 1 Axes>"
            ]
          },
          "metadata": {
            "tags": []
          }
        }
      ]
    },
    {
      "cell_type": "code",
      "metadata": {
        "id": "0-tO8xmui4Pm",
        "colab": {
          "base_uri": "https://localhost:8080/",
          "height": 65
        },
        "outputId": "a27158e6-5403-4eb9-e10d-4468961eefa3"
      },
      "source": [
        "import tensorflow;\n",
        "from tensorflow.keras import layers;\n",
        "from tensorflow.keras import Model;"
      ],
      "execution_count": null,
      "outputs": [
        {
          "output_type": "display_data",
          "data": {
            "text/html": [
              "<p style=\"color: red;\">\n",
              "The default version of TensorFlow in Colab will soon switch to TensorFlow 2.x.<br>\n",
              "We recommend you <a href=\"https://www.tensorflow.org/guide/migrate\" target=\"_blank\">upgrade</a> now \n",
              "or ensure your notebook will continue to use TensorFlow 1.x via the <code>%tensorflow_version 1.x</code> magic:\n",
              "<a href=\"https://colab.research.google.com/notebooks/tensorflow_version.ipynb\" target=\"_blank\">more info</a>.</p>\n"
            ],
            "text/plain": [
              "<IPython.core.display.HTML object>"
            ]
          },
          "metadata": {
            "tags": []
          }
        }
      ]
    },
    {
      "cell_type": "code",
      "metadata": {
        "id": "8-BiGG5Mjw9n",
        "colab": {
          "base_uri": "https://localhost:8080/",
          "height": 565
        },
        "outputId": "184c49ae-2728-4aa2-8af2-cfb1e758dd0f"
      },
      "source": [
        "img_input = layers.Input(shape=(IMAGE_SIZE, IMAGE_SIZE, 1))\n",
        "x = layers.Conv2D(5, 3, activation='relu', strides = 1, padding = 'same')(img_input)\n",
        "x = layers.MaxPool2D(pool_size=2)(x)\n",
        "x = layers.Conv2D(10, 3, activation='relu', strides = 2)(x)\n",
        "x = layers.MaxPool2D(pool_size=2)(x)\n",
        "x = layers.Conv2D(20, 3, activation='relu', strides = 2)(x)\n",
        "x = layers.MaxPool2D(pool_size=2)(x)\n",
        "x = layers.Conv2D(3, 5, activation='relu', strides = 2)(x)\n",
        "output = layers.Flatten()(x)\n",
        "model = Model(img_input, output)\n",
        "model.summary()"
      ],
      "execution_count": null,
      "outputs": [
        {
          "output_type": "stream",
          "text": [
            "WARNING:tensorflow:From /usr/local/lib/python3.6/dist-packages/tensorflow_core/python/ops/resource_variable_ops.py:1630: calling BaseResourceVariable.__init__ (from tensorflow.python.ops.resource_variable_ops) with constraint is deprecated and will be removed in a future version.\n",
            "Instructions for updating:\n",
            "If using Keras pass *_constraint arguments to layers.\n",
            "Model: \"model\"\n",
            "_________________________________________________________________\n",
            "Layer (type)                 Output Shape              Param #   \n",
            "=================================================================\n",
            "input_1 (InputLayer)         [(None, 200, 200, 1)]     0         \n",
            "_________________________________________________________________\n",
            "conv2d (Conv2D)              (None, 200, 200, 5)       50        \n",
            "_________________________________________________________________\n",
            "max_pooling2d (MaxPooling2D) (None, 100, 100, 5)       0         \n",
            "_________________________________________________________________\n",
            "conv2d_1 (Conv2D)            (None, 49, 49, 10)        460       \n",
            "_________________________________________________________________\n",
            "max_pooling2d_1 (MaxPooling2 (None, 24, 24, 10)        0         \n",
            "_________________________________________________________________\n",
            "conv2d_2 (Conv2D)            (None, 11, 11, 20)        1820      \n",
            "_________________________________________________________________\n",
            "max_pooling2d_2 (MaxPooling2 (None, 5, 5, 20)          0         \n",
            "_________________________________________________________________\n",
            "conv2d_3 (Conv2D)            (None, 1, 1, 3)           1503      \n",
            "_________________________________________________________________\n",
            "flatten (Flatten)            (None, 3)                 0         \n",
            "=================================================================\n",
            "Total params: 3,833\n",
            "Trainable params: 3,833\n",
            "Non-trainable params: 0\n",
            "_________________________________________________________________\n"
          ],
          "name": "stdout"
        }
      ]
    },
    {
      "cell_type": "code",
      "metadata": {
        "id": "sp_FNlP3k8Dx"
      },
      "source": [
        "model.compile(loss='mean_squared_error',optimizer= 'adam', metrics=['mse']);"
      ],
      "execution_count": null,
      "outputs": []
    },
    {
      "cell_type": "code",
      "metadata": {
        "id": "CQVCkUS-lkOv",
        "colab": {
          "base_uri": "https://localhost:8080/",
          "height": 108
        },
        "outputId": "0fdb5412-60e3-4851-e511-dd17b3376482"
      },
      "source": [
        "model.fit(training_Data[\"X_Train\"],training_Data[\"Y_Train\"], epochs = 3,verbose=1)"
      ],
      "execution_count": null,
      "outputs": [
        {
          "output_type": "stream",
          "text": [
            "Train on 10000 samples\n",
            "Epoch 1/3\n",
            "10000/10000 [==============================] - 114s 11ms/sample - loss: 0.1140 - mean_squared_error: 0.1140\n",
            "Epoch 2/3\n",
            " 5344/10000 [===============>..............] - ETA: 53s - loss: 0.1014 - mean_squared_error: 0.1014"
          ],
          "name": "stdout"
        }
      ]
    },
    {
      "cell_type": "code",
      "metadata": {
        "id": "N9f-u1PGlpuG",
        "colab": {
          "base_uri": "https://localhost:8080/",
          "height": 34
        },
        "outputId": "570c052f-0e7f-4216-8875-6005246fbaf0"
      },
      "source": [
        "IMAGE_SIZE*model.predict(training_Data['X_Train'][2].reshape(1,IMAGE_SIZE, IMAGE_SIZE,1))"
      ],
      "execution_count": null,
      "outputs": [
        {
          "output_type": "execute_result",
          "data": {
            "text/plain": [
              "array([[ 89.29135 , 145.24783 ,  45.316525]], dtype=float32)"
            ]
          },
          "metadata": {
            "tags": []
          },
          "execution_count": 20
        }
      ]
    },
    {
      "cell_type": "code",
      "metadata": {
        "id": "is7rdvBQnBDm",
        "colab": {
          "base_uri": "https://localhost:8080/",
          "height": 34
        },
        "outputId": "7cdbde3d-bb47-42d1-835d-c52840e59621"
      },
      "source": [
        "IMAGE_SIZE*training_Data['Y_Train'][2]"
      ],
      "execution_count": null,
      "outputs": [
        {
          "output_type": "execute_result",
          "data": {
            "text/plain": [
              "array([ 96., 152.,  48.])"
            ]
          },
          "metadata": {
            "tags": []
          },
          "execution_count": 21
        }
      ]
    },
    {
      "cell_type": "code",
      "metadata": {
        "id": "3vi73zk1nH2u",
        "colab": {
          "base_uri": "https://localhost:8080/",
          "height": 286
        },
        "outputId": "371470cd-6ef5-480b-b673-90d3fcb9d59f"
      },
      "source": [
        "plt.imshow(training_Data['X_Train'][2].reshape(200,200))"
      ],
      "execution_count": null,
      "outputs": [
        {
          "output_type": "execute_result",
          "data": {
            "text/plain": [
              "<matplotlib.image.AxesImage at 0x7f16962127b8>"
            ]
          },
          "metadata": {
            "tags": []
          },
          "execution_count": 22
        },
        {
          "output_type": "display_data",
          "data": {
            "image/png": "[encoded data removed]",
            "text/plain": [
              "<Figure size 432x288 with 1 Axes>"
            ]
          },
          "metadata": {
            "tags": []
          }
        }
      ]
    },
    {
      "cell_type": "code",
      "metadata": {
        "id": "iOe5juP7nRCu",
        "colab": {
          "base_uri": "https://localhost:8080/",
          "height": 304
        },
        "outputId": "b6cbc8cb-66a3-4def-807e-266bfd8200b4"
      },
      "source": [
        "IMAGE_SIZE = 200;\n",
        "rad = random.randint(5,50);\n",
        "c_x = random.randint(rad,IMAGE_SIZE-rad);\n",
        "c_y = random.randint(rad,IMAGE_SIZE-rad);\n",
        "print([c_x, c_y, rad])\n",
        "blank_image = np.ones(shape=[IMAGE_SIZE, IMAGE_SIZE], dtype=np.uint8)\n",
        "new_Image = cv2.circle(blank_image, (c_x,c_y), rad, 0, -1);\n",
        "plt.imshow(new_Image);\n",
        "print(IMAGE_SIZE*model.predict(new_Image.reshape(1,IMAGE_SIZE, IMAGE_SIZE,1)))"
      ],
      "execution_count": null,
      "outputs": [
        {
          "output_type": "stream",
          "text": [
            "[76, 111, 48]\n",
            "[[ 70.636116 105.55075   57.324844]]\n"
          ],
          "name": "stdout"
        },
        {
          "output_type": "display_data",
          "data": {
            "image/png": "[encoded data removed]",
            "text/plain": [
              "<Figure size 432x288 with 1 Axes>"
            ]
          },
          "metadata": {
            "tags": []
          }
        }
      ]
    },
    {
      "cell_type": "code",
      "metadata": {
        "id": "aWmdUiSAnfDO"
      },
      "source": [
        ""
      ],
      "execution_count": null,
      "outputs": []
    }
  ]
}